{
 "cells": [
  {
   "cell_type": "markdown",
   "metadata": {},
   "source": [
    "### Note\n",
    "* Instructions have been included for each segment. You do not have to follow them exactly, but they are included to help you think through the steps."
   ]
  },
  {
   "cell_type": "code",
   "execution_count": 86,
   "metadata": {},
   "outputs": [
    {
     "data": {
      "text/html": [
       "<div>\n",
       "<style scoped>\n",
       "    .dataframe tbody tr th:only-of-type {\n",
       "        vertical-align: middle;\n",
       "    }\n",
       "\n",
       "    .dataframe tbody tr th {\n",
       "        vertical-align: top;\n",
       "    }\n",
       "\n",
       "    .dataframe thead th {\n",
       "        text-align: right;\n",
       "    }\n",
       "</style>\n",
       "<table border=\"1\" class=\"dataframe\">\n",
       "  <thead>\n",
       "    <tr style=\"text-align: right;\">\n",
       "      <th></th>\n",
       "      <th>Purchase ID</th>\n",
       "      <th>SN</th>\n",
       "      <th>Age</th>\n",
       "      <th>Gender</th>\n",
       "      <th>Item ID</th>\n",
       "      <th>Item Name</th>\n",
       "      <th>Price</th>\n",
       "    </tr>\n",
       "  </thead>\n",
       "  <tbody>\n",
       "    <tr>\n",
       "      <td>0</td>\n",
       "      <td>0</td>\n",
       "      <td>Lisim78</td>\n",
       "      <td>20</td>\n",
       "      <td>Male</td>\n",
       "      <td>108</td>\n",
       "      <td>Extraction, Quickblade Of Trembling Hands</td>\n",
       "      <td>3.53</td>\n",
       "    </tr>\n",
       "    <tr>\n",
       "      <td>1</td>\n",
       "      <td>1</td>\n",
       "      <td>Lisovynya38</td>\n",
       "      <td>40</td>\n",
       "      <td>Male</td>\n",
       "      <td>143</td>\n",
       "      <td>Frenzied Scimitar</td>\n",
       "      <td>1.56</td>\n",
       "    </tr>\n",
       "    <tr>\n",
       "      <td>2</td>\n",
       "      <td>2</td>\n",
       "      <td>Ithergue48</td>\n",
       "      <td>24</td>\n",
       "      <td>Male</td>\n",
       "      <td>92</td>\n",
       "      <td>Final Critic</td>\n",
       "      <td>4.88</td>\n",
       "    </tr>\n",
       "    <tr>\n",
       "      <td>3</td>\n",
       "      <td>3</td>\n",
       "      <td>Chamassasya86</td>\n",
       "      <td>24</td>\n",
       "      <td>Male</td>\n",
       "      <td>100</td>\n",
       "      <td>Blindscythe</td>\n",
       "      <td>3.27</td>\n",
       "    </tr>\n",
       "    <tr>\n",
       "      <td>4</td>\n",
       "      <td>4</td>\n",
       "      <td>Iskosia90</td>\n",
       "      <td>23</td>\n",
       "      <td>Male</td>\n",
       "      <td>131</td>\n",
       "      <td>Fury</td>\n",
       "      <td>1.44</td>\n",
       "    </tr>\n",
       "  </tbody>\n",
       "</table>\n",
       "</div>"
      ],
      "text/plain": [
       "   Purchase ID             SN  Age Gender  Item ID  \\\n",
       "0            0        Lisim78   20   Male      108   \n",
       "1            1    Lisovynya38   40   Male      143   \n",
       "2            2     Ithergue48   24   Male       92   \n",
       "3            3  Chamassasya86   24   Male      100   \n",
       "4            4      Iskosia90   23   Male      131   \n",
       "\n",
       "                                   Item Name  Price  \n",
       "0  Extraction, Quickblade Of Trembling Hands   3.53  \n",
       "1                          Frenzied Scimitar   1.56  \n",
       "2                               Final Critic   4.88  \n",
       "3                                Blindscythe   3.27  \n",
       "4                                       Fury   1.44  "
      ]
     },
     "execution_count": 86,
     "metadata": {},
     "output_type": "execute_result"
    }
   ],
   "source": [
    "# Dependencies and Setup\n",
    "import pandas as pd\n",
    "import numpy as np\n",
    "\n",
    "# File to Load (Remember to Change These)\n",
    "file_to_load = \"Resources/purchase_data.csv\"\n",
    "\n",
    "# Read Purchasing File and store into Pandas data frame\n",
    "purchase_data = pd.read_csv(file_to_load)\n",
    "purchase_data.head()"
   ]
  },
  {
   "cell_type": "markdown",
   "metadata": {},
   "source": [
    "* Display the total number of players\n"
   ]
  },
  {
   "cell_type": "markdown",
   "metadata": {},
   "source": [
    "## Player Count"
   ]
  },
  {
   "cell_type": "code",
   "execution_count": 87,
   "metadata": {},
   "outputs": [
    {
     "data": {
      "text/html": [
       "<div>\n",
       "<style scoped>\n",
       "    .dataframe tbody tr th:only-of-type {\n",
       "        vertical-align: middle;\n",
       "    }\n",
       "\n",
       "    .dataframe tbody tr th {\n",
       "        vertical-align: top;\n",
       "    }\n",
       "\n",
       "    .dataframe thead th {\n",
       "        text-align: right;\n",
       "    }\n",
       "</style>\n",
       "<table border=\"1\" class=\"dataframe\">\n",
       "  <thead>\n",
       "    <tr style=\"text-align: right;\">\n",
       "      <th></th>\n",
       "      <th>Total Players</th>\n",
       "    </tr>\n",
       "  </thead>\n",
       "  <tbody>\n",
       "    <tr>\n",
       "      <td>0</td>\n",
       "      <td>576</td>\n",
       "    </tr>\n",
       "  </tbody>\n",
       "</table>\n",
       "</div>"
      ],
      "text/plain": [
       "   Total Players\n",
       "0            576"
      ]
     },
     "execution_count": 87,
     "metadata": {},
     "output_type": "execute_result"
    }
   ],
   "source": [
    "# Using length of list \"SN\" for number of players\n",
    "total_players = len(purchase_data[\"SN\"].value_counts())\n",
    "\n",
    "tally = pd.DataFrame({\"Total Players\": [total_players]})\n",
    "tally"
   ]
  },
  {
   "cell_type": "markdown",
   "metadata": {},
   "source": [
    "## Purchasing Analysis (Total)"
   ]
  },
  {
   "cell_type": "markdown",
   "metadata": {},
   "source": [
    "* Run basic calculations to obtain number of unique items, average price, etc.\n",
    "\n",
    "\n",
    "* Create a summary data frame to hold the results\n",
    "\n",
    "\n",
    "* Optional: give the displayed data cleaner formatting\n",
    "\n",
    "\n",
    "* Display the summary data frame\n"
   ]
  },
  {
   "cell_type": "code",
   "execution_count": 88,
   "metadata": {
    "scrolled": true
   },
   "outputs": [
    {
     "data": {
      "text/html": [
       "<div>\n",
       "<style scoped>\n",
       "    .dataframe tbody tr th:only-of-type {\n",
       "        vertical-align: middle;\n",
       "    }\n",
       "\n",
       "    .dataframe tbody tr th {\n",
       "        vertical-align: top;\n",
       "    }\n",
       "\n",
       "    .dataframe thead th {\n",
       "        text-align: right;\n",
       "    }\n",
       "</style>\n",
       "<table border=\"1\" class=\"dataframe\">\n",
       "  <thead>\n",
       "    <tr style=\"text-align: right;\">\n",
       "      <th></th>\n",
       "      <th>Number of Unique Items</th>\n",
       "      <th>Average Price</th>\n",
       "      <th>Number of Purchases</th>\n",
       "      <th>Total Revenue</th>\n",
       "    </tr>\n",
       "  </thead>\n",
       "  <tbody>\n",
       "    <tr>\n",
       "      <td>0</td>\n",
       "      <td>183</td>\n",
       "      <td>$3.05</td>\n",
       "      <td>780</td>\n",
       "      <td>$2,379.77</td>\n",
       "    </tr>\n",
       "  </tbody>\n",
       "</table>\n",
       "</div>"
      ],
      "text/plain": [
       "   Number of Unique Items Average Price  Number of Purchases Total Revenue\n",
       "0                     183         $3.05                  780     $2,379.77"
      ]
     },
     "execution_count": 88,
     "metadata": {},
     "output_type": "execute_result"
    }
   ],
   "source": [
    "# Formulas for number of unique items, average price, number of purchases, and total revenue\n",
    "tally_of_unique_items = len(purchase_data[\"Item ID\"].unique())\n",
    "average_price = (purchase_data[\"Price\"].mean())\n",
    "number_of_purchases = (purchase_data[\"Purchase ID\"].count())\n",
    "total_revenue = (purchase_data[\"Price\"].sum())\n",
    "\n",
    "# Creating a summary data frame\n",
    "Purchase_Summary = pd.DataFrame({\"Number of Unique Items\": [tally_of_unique_items], \n",
    "                                 \"Average Price\": [average_price], \n",
    "                                 \"Number of Purchases\": [number_of_purchases], \n",
    "                                 \"Total Revenue\": [total_revenue]})\n",
    "\n",
    "# Format of Data Frame\n",
    "Purchase_Summary = Purchase_Summary.round(2)\n",
    "Purchase_Summary[\"Average Price\"] = Purchase_Summary[\"Average Price\"].map(\"${:,.2f}\".format)\n",
    "Purchase_Summary[\"Total Revenue\"] = Purchase_Summary[\"Total Revenue\"].map(\"${:,.2f}\".format)\n",
    "Purchase_Summary"
   ]
  },
  {
   "cell_type": "markdown",
   "metadata": {},
   "source": [
    "## Gender Demographics"
   ]
  },
  {
   "cell_type": "markdown",
   "metadata": {},
   "source": [
    "* Percentage and Count of Male Players\n",
    "\n",
    "\n",
    "* Percentage and Count of Female Players\n",
    "\n",
    "\n",
    "* Percentage and Count of Other / Non-Disclosed\n",
    "\n",
    "\n"
   ]
  },
  {
   "cell_type": "code",
   "execution_count": 89,
   "metadata": {},
   "outputs": [
    {
     "data": {
      "text/html": [
       "<style  type=\"text/css\" >\n",
       "</style><table id=\"T_04172008_3725_11ea_adea_c36f08349a16\" ><thead>    <tr>        <th class=\"blank level0\" ></th>        <th class=\"col_heading level0 col0\" >Percentage of Players</th>        <th class=\"col_heading level0 col1\" >Total Count</th>    </tr></thead><tbody>\n",
       "                <tr>\n",
       "                        <th id=\"T_04172008_3725_11ea_adea_c36f08349a16level0_row0\" class=\"row_heading level0 row0\" >Male</th>\n",
       "                        <td id=\"T_04172008_3725_11ea_adea_c36f08349a16row0_col0\" class=\"data row0 col0\" >84.03</td>\n",
       "                        <td id=\"T_04172008_3725_11ea_adea_c36f08349a16row0_col1\" class=\"data row0 col1\" >484</td>\n",
       "            </tr>\n",
       "            <tr>\n",
       "                        <th id=\"T_04172008_3725_11ea_adea_c36f08349a16level0_row1\" class=\"row_heading level0 row1\" >Female</th>\n",
       "                        <td id=\"T_04172008_3725_11ea_adea_c36f08349a16row1_col0\" class=\"data row1 col0\" >14.06</td>\n",
       "                        <td id=\"T_04172008_3725_11ea_adea_c36f08349a16row1_col1\" class=\"data row1 col1\" >81</td>\n",
       "            </tr>\n",
       "            <tr>\n",
       "                        <th id=\"T_04172008_3725_11ea_adea_c36f08349a16level0_row2\" class=\"row_heading level0 row2\" >Other / Non-Disclosed</th>\n",
       "                        <td id=\"T_04172008_3725_11ea_adea_c36f08349a16row2_col0\" class=\"data row2 col0\" >1.91</td>\n",
       "                        <td id=\"T_04172008_3725_11ea_adea_c36f08349a16row2_col1\" class=\"data row2 col1\" >11</td>\n",
       "            </tr>\n",
       "    </tbody></table>"
      ],
      "text/plain": [
       "<pandas.io.formats.style.Styler at 0x1ffc87727c8>"
      ]
     },
     "execution_count": 89,
     "metadata": {},
     "output_type": "execute_result"
    }
   ],
   "source": [
    "# Group Purchase Data by Gender\n",
    "gender_statistics = purchase_data.groupby(\"Gender\")\n",
    "\n",
    "# Count the screen names by gender\n",
    "total_gender = gender_statistics.nunique()[\"SN\"]\n",
    "\n",
    "# Formula for percentage of players\n",
    "percentage = total_gender / total_players * 100\n",
    "percentage\n",
    "\n",
    "gender_demographics = pd.DataFrame({\"Percentage of Players\": percentage,\n",
    "                                   \"Total Count\": total_gender})\n",
    "\n",
    "# Format the data grame with index names removed from corner\n",
    "gender_demographics.index.name = None\n",
    "\n",
    "#Formatting the values\n",
    "gender_demographics.sort_values([\"Total Count\"], ascending = False).style.format({\"Percentage of Players\":\"{:.2f}\"})\n"
   ]
  },
  {
   "cell_type": "markdown",
   "metadata": {},
   "source": [
    "\n",
    "## Purchasing Analysis (Gender)"
   ]
  },
  {
   "cell_type": "markdown",
   "metadata": {},
   "source": [
    "* Run basic calculations to obtain purchase count, avg. purchase price, avg. purchase total per person etc. by gender\n",
    "\n",
    "\n",
    "\n",
    "\n",
    "* Create a summary data frame to hold the results\n",
    "\n",
    "\n",
    "* Optional: give the displayed data cleaner formatting\n",
    "\n",
    "\n",
    "* Display the summary data frame"
   ]
  },
  {
   "cell_type": "code",
   "execution_count": 90,
   "metadata": {},
   "outputs": [
    {
     "data": {
      "text/html": [
       "<div>\n",
       "<style scoped>\n",
       "    .dataframe tbody tr th:only-of-type {\n",
       "        vertical-align: middle;\n",
       "    }\n",
       "\n",
       "    .dataframe tbody tr th {\n",
       "        vertical-align: top;\n",
       "    }\n",
       "\n",
       "    .dataframe thead th {\n",
       "        text-align: right;\n",
       "    }\n",
       "</style>\n",
       "<table border=\"1\" class=\"dataframe\">\n",
       "  <thead>\n",
       "    <tr style=\"text-align: right;\">\n",
       "      <th></th>\n",
       "      <th>Purchase Count</th>\n",
       "      <th>Average Purchasing Price</th>\n",
       "      <th>Total Purchase Value</th>\n",
       "      <th>Average Purchase Total per Person by Age Group</th>\n",
       "    </tr>\n",
       "  </thead>\n",
       "  <tbody>\n",
       "    <tr>\n",
       "      <td>Female</td>\n",
       "      <td>113</td>\n",
       "      <td>3.203009</td>\n",
       "      <td>361.94</td>\n",
       "      <td>4.468395</td>\n",
       "    </tr>\n",
       "    <tr>\n",
       "      <td>Male</td>\n",
       "      <td>652</td>\n",
       "      <td>3.017853</td>\n",
       "      <td>1967.64</td>\n",
       "      <td>4.065372</td>\n",
       "    </tr>\n",
       "    <tr>\n",
       "      <td>Other / Non-Disclosed</td>\n",
       "      <td>15</td>\n",
       "      <td>3.346000</td>\n",
       "      <td>50.19</td>\n",
       "      <td>4.562727</td>\n",
       "    </tr>\n",
       "  </tbody>\n",
       "</table>\n",
       "</div>"
      ],
      "text/plain": [
       "                       Purchase Count  Average Purchasing Price  \\\n",
       "Female                            113                  3.203009   \n",
       "Male                              652                  3.017853   \n",
       "Other / Non-Disclosed              15                  3.346000   \n",
       "\n",
       "                       Total Purchase Value  \\\n",
       "Female                               361.94   \n",
       "Male                                1967.64   \n",
       "Other / Non-Disclosed                 50.19   \n",
       "\n",
       "                       Average Purchase Total per Person by Age Group  \n",
       "Female                                                       4.468395  \n",
       "Male                                                         4.065372  \n",
       "Other / Non-Disclosed                                        4.562727  "
      ]
     },
     "execution_count": 90,
     "metadata": {},
     "output_type": "execute_result"
    }
   ],
   "source": [
    "# Formulas for Calculation\n",
    "purchase_count = gender_statistics[\"Purchase ID\"].count()\n",
    "average_purchase_price = gender_statistics[\"Price\"].mean()\n",
    "average_purchase_total = gender_statistics[\"Price\"].sum()\n",
    "avg_purchase_per_person = average_purchase_total / total_gender\n",
    "\n",
    "# Creating a Data Frame\n",
    "purchase_analysis = pd.DataFrame({\"Purchase Count\": purchase_count,\n",
    "                                 \"Average Purchasing Price\": average_purchase_price,\n",
    "                                 \"Total Purchase Value\": average_purchase_total,\n",
    "                                 \"Average Purchase Total per Person by Age Group\": avg_purchase_per_person})\n",
    "purchase_analysis"
   ]
  },
  {
   "cell_type": "markdown",
   "metadata": {},
   "source": [
    "## Age Demographics"
   ]
  },
  {
   "cell_type": "markdown",
   "metadata": {},
   "source": [
    "* Establish bins for ages\n",
    "\n",
    "\n",
    "* Categorize the existing players using the age bins. Hint: use pd.cut()\n",
    "\n",
    "\n",
    "* Calculate the numbers and percentages by age group\n",
    "\n",
    "\n",
    "* Create a summary data frame to hold the results\n",
    "\n",
    "\n",
    "* Optional: round the percentage column to two decimal points\n",
    "\n",
    "\n",
    "* Display Age Demographics Table\n"
   ]
  },
  {
   "cell_type": "code",
   "execution_count": 91,
   "metadata": {},
   "outputs": [
    {
     "data": {
      "text/html": [
       "<div>\n",
       "<style scoped>\n",
       "    .dataframe tbody tr th:only-of-type {\n",
       "        vertical-align: middle;\n",
       "    }\n",
       "\n",
       "    .dataframe tbody tr th {\n",
       "        vertical-align: top;\n",
       "    }\n",
       "\n",
       "    .dataframe thead th {\n",
       "        text-align: right;\n",
       "    }\n",
       "</style>\n",
       "<table border=\"1\" class=\"dataframe\">\n",
       "  <thead>\n",
       "    <tr style=\"text-align: right;\">\n",
       "      <th></th>\n",
       "      <th>Total Count</th>\n",
       "      <th>Percent of Players</th>\n",
       "    </tr>\n",
       "  </thead>\n",
       "  <tbody>\n",
       "    <tr>\n",
       "      <td>&lt;10</td>\n",
       "      <td>23</td>\n",
       "      <td>3.993056</td>\n",
       "    </tr>\n",
       "    <tr>\n",
       "      <td>10-14</td>\n",
       "      <td>28</td>\n",
       "      <td>4.861111</td>\n",
       "    </tr>\n",
       "    <tr>\n",
       "      <td>15-19</td>\n",
       "      <td>136</td>\n",
       "      <td>23.611111</td>\n",
       "    </tr>\n",
       "    <tr>\n",
       "      <td>20-24</td>\n",
       "      <td>365</td>\n",
       "      <td>63.368056</td>\n",
       "    </tr>\n",
       "    <tr>\n",
       "      <td>25-29</td>\n",
       "      <td>101</td>\n",
       "      <td>17.534722</td>\n",
       "    </tr>\n",
       "    <tr>\n",
       "      <td>30-34</td>\n",
       "      <td>73</td>\n",
       "      <td>12.673611</td>\n",
       "    </tr>\n",
       "    <tr>\n",
       "      <td>35-39</td>\n",
       "      <td>41</td>\n",
       "      <td>7.118056</td>\n",
       "    </tr>\n",
       "    <tr>\n",
       "      <td>&gt;40</td>\n",
       "      <td>13</td>\n",
       "      <td>2.256944</td>\n",
       "    </tr>\n",
       "  </tbody>\n",
       "</table>\n",
       "</div>"
      ],
      "text/plain": [
       "       Total Count  Percent of Players\n",
       "<10             23            3.993056\n",
       "10-14           28            4.861111\n",
       "15-19          136           23.611111\n",
       "20-24          365           63.368056\n",
       "25-29          101           17.534722\n",
       "30-34           73           12.673611\n",
       "35-39           41            7.118056\n",
       ">40             13            2.256944"
      ]
     },
     "execution_count": 91,
     "metadata": {},
     "output_type": "execute_result"
    }
   ],
   "source": [
    "# Creating Bins\n",
    "age_bins = [0, 9.90, 14.90, 19.90, 24.90, 29.90, 34.90, 39.90, 9999]\n",
    "bin_names = [\"<10\", \"10-14\", \"15-19\", \"20-24\", \"25-29\", \"30-34\", \"35-39\", \">40\"]\n",
    "             \n",
    "# Categorizing each player by using .cut\n",
    "purchase_data[\"Age Group\"] = pd.cut(purchase_data[\"Age\"], age_bins, labels=bin_names)\n",
    "purchase_data\n",
    "\n",
    "# Creating Formulas\n",
    "total_age_demo = purchase_data[\"Age Group\"].value_counts()\n",
    "total_age_perc = (total_age_demo / total_players) * 100\n",
    "\n",
    "# Creating Summary Data Frame\n",
    "age_demographics = pd.DataFrame({\"Total Count\": total_age_demo,\n",
    "                                \"Percent of Players\": total_age_perc})\n",
    "age_demographics = age_demographics.sort_index()\n",
    "age_demographics"
   ]
  },
  {
   "cell_type": "markdown",
   "metadata": {},
   "source": [
    "## Purchasing Analysis (Age)"
   ]
  },
  {
   "cell_type": "markdown",
   "metadata": {},
   "source": [
    "* Bin the purchase_data data frame by age\n",
    "\n",
    "\n",
    "* Run basic calculations to obtain purchase count, avg. purchase price, avg. purchase total per person etc. in the table below\n",
    "\n",
    "\n",
    "* Create a summary data frame to hold the results\n",
    "\n",
    "\n",
    "* Optional: give the displayed data cleaner formatting\n",
    "\n",
    "\n",
    "* Display the summary data frame"
   ]
  },
  {
   "cell_type": "code",
   "execution_count": 92,
   "metadata": {},
   "outputs": [
    {
     "data": {
      "text/html": [
       "<style  type=\"text/css\" >\n",
       "</style><table id=\"T_06059b8c_3725_11ea_805c_c36f08349a16\" ><thead>    <tr>        <th class=\"blank level0\" ></th>        <th class=\"col_heading level0 col0\" >Purchase Count</th>        <th class=\"col_heading level0 col1\" >Average Purchase Price</th>        <th class=\"col_heading level0 col2\" >Total Purchase</th>        <th class=\"col_heading level0 col3\" >Average Purchase Total per Person</th>    </tr></thead><tbody>\n",
       "                <tr>\n",
       "                        <th id=\"T_06059b8c_3725_11ea_805c_c36f08349a16level0_row0\" class=\"row_heading level0 row0\" ><10</th>\n",
       "                        <td id=\"T_06059b8c_3725_11ea_805c_c36f08349a16row0_col0\" class=\"data row0 col0\" >23</td>\n",
       "                        <td id=\"T_06059b8c_3725_11ea_805c_c36f08349a16row0_col1\" class=\"data row0 col1\" >$3.35</td>\n",
       "                        <td id=\"T_06059b8c_3725_11ea_805c_c36f08349a16row0_col2\" class=\"data row0 col2\" >$77.13</td>\n",
       "                        <td id=\"T_06059b8c_3725_11ea_805c_c36f08349a16row0_col3\" class=\"data row0 col3\" >$3.35</td>\n",
       "            </tr>\n",
       "            <tr>\n",
       "                        <th id=\"T_06059b8c_3725_11ea_805c_c36f08349a16level0_row1\" class=\"row_heading level0 row1\" >10-14</th>\n",
       "                        <td id=\"T_06059b8c_3725_11ea_805c_c36f08349a16row1_col0\" class=\"data row1 col0\" >28</td>\n",
       "                        <td id=\"T_06059b8c_3725_11ea_805c_c36f08349a16row1_col1\" class=\"data row1 col1\" >$2.96</td>\n",
       "                        <td id=\"T_06059b8c_3725_11ea_805c_c36f08349a16row1_col2\" class=\"data row1 col2\" >$82.78</td>\n",
       "                        <td id=\"T_06059b8c_3725_11ea_805c_c36f08349a16row1_col3\" class=\"data row1 col3\" >$2.96</td>\n",
       "            </tr>\n",
       "            <tr>\n",
       "                        <th id=\"T_06059b8c_3725_11ea_805c_c36f08349a16level0_row2\" class=\"row_heading level0 row2\" >15-19</th>\n",
       "                        <td id=\"T_06059b8c_3725_11ea_805c_c36f08349a16row2_col0\" class=\"data row2 col0\" >136</td>\n",
       "                        <td id=\"T_06059b8c_3725_11ea_805c_c36f08349a16row2_col1\" class=\"data row2 col1\" >$3.04</td>\n",
       "                        <td id=\"T_06059b8c_3725_11ea_805c_c36f08349a16row2_col2\" class=\"data row2 col2\" >$412.89</td>\n",
       "                        <td id=\"T_06059b8c_3725_11ea_805c_c36f08349a16row2_col3\" class=\"data row2 col3\" >$3.04</td>\n",
       "            </tr>\n",
       "            <tr>\n",
       "                        <th id=\"T_06059b8c_3725_11ea_805c_c36f08349a16level0_row3\" class=\"row_heading level0 row3\" >20-24</th>\n",
       "                        <td id=\"T_06059b8c_3725_11ea_805c_c36f08349a16row3_col0\" class=\"data row3 col0\" >365</td>\n",
       "                        <td id=\"T_06059b8c_3725_11ea_805c_c36f08349a16row3_col1\" class=\"data row3 col1\" >$3.05</td>\n",
       "                        <td id=\"T_06059b8c_3725_11ea_805c_c36f08349a16row3_col2\" class=\"data row3 col2\" >$1,114.06</td>\n",
       "                        <td id=\"T_06059b8c_3725_11ea_805c_c36f08349a16row3_col3\" class=\"data row3 col3\" >$3.05</td>\n",
       "            </tr>\n",
       "            <tr>\n",
       "                        <th id=\"T_06059b8c_3725_11ea_805c_c36f08349a16level0_row4\" class=\"row_heading level0 row4\" >25-29</th>\n",
       "                        <td id=\"T_06059b8c_3725_11ea_805c_c36f08349a16row4_col0\" class=\"data row4 col0\" >101</td>\n",
       "                        <td id=\"T_06059b8c_3725_11ea_805c_c36f08349a16row4_col1\" class=\"data row4 col1\" >$2.90</td>\n",
       "                        <td id=\"T_06059b8c_3725_11ea_805c_c36f08349a16row4_col2\" class=\"data row4 col2\" >$293.00</td>\n",
       "                        <td id=\"T_06059b8c_3725_11ea_805c_c36f08349a16row4_col3\" class=\"data row4 col3\" >$2.90</td>\n",
       "            </tr>\n",
       "            <tr>\n",
       "                        <th id=\"T_06059b8c_3725_11ea_805c_c36f08349a16level0_row5\" class=\"row_heading level0 row5\" >30-34</th>\n",
       "                        <td id=\"T_06059b8c_3725_11ea_805c_c36f08349a16row5_col0\" class=\"data row5 col0\" >73</td>\n",
       "                        <td id=\"T_06059b8c_3725_11ea_805c_c36f08349a16row5_col1\" class=\"data row5 col1\" >$2.93</td>\n",
       "                        <td id=\"T_06059b8c_3725_11ea_805c_c36f08349a16row5_col2\" class=\"data row5 col2\" >$214.00</td>\n",
       "                        <td id=\"T_06059b8c_3725_11ea_805c_c36f08349a16row5_col3\" class=\"data row5 col3\" >$2.93</td>\n",
       "            </tr>\n",
       "            <tr>\n",
       "                        <th id=\"T_06059b8c_3725_11ea_805c_c36f08349a16level0_row6\" class=\"row_heading level0 row6\" >35-39</th>\n",
       "                        <td id=\"T_06059b8c_3725_11ea_805c_c36f08349a16row6_col0\" class=\"data row6 col0\" >41</td>\n",
       "                        <td id=\"T_06059b8c_3725_11ea_805c_c36f08349a16row6_col1\" class=\"data row6 col1\" >$3.60</td>\n",
       "                        <td id=\"T_06059b8c_3725_11ea_805c_c36f08349a16row6_col2\" class=\"data row6 col2\" >$147.67</td>\n",
       "                        <td id=\"T_06059b8c_3725_11ea_805c_c36f08349a16row6_col3\" class=\"data row6 col3\" >$3.60</td>\n",
       "            </tr>\n",
       "            <tr>\n",
       "                        <th id=\"T_06059b8c_3725_11ea_805c_c36f08349a16level0_row7\" class=\"row_heading level0 row7\" >>40</th>\n",
       "                        <td id=\"T_06059b8c_3725_11ea_805c_c36f08349a16row7_col0\" class=\"data row7 col0\" >13</td>\n",
       "                        <td id=\"T_06059b8c_3725_11ea_805c_c36f08349a16row7_col1\" class=\"data row7 col1\" >$2.94</td>\n",
       "                        <td id=\"T_06059b8c_3725_11ea_805c_c36f08349a16row7_col2\" class=\"data row7 col2\" >$38.24</td>\n",
       "                        <td id=\"T_06059b8c_3725_11ea_805c_c36f08349a16row7_col3\" class=\"data row7 col3\" >$2.94</td>\n",
       "            </tr>\n",
       "    </tbody></table>"
      ],
      "text/plain": [
       "<pandas.io.formats.style.Styler at 0x1ffc8718c88>"
      ]
     },
     "execution_count": 92,
     "metadata": {},
     "output_type": "execute_result"
    }
   ],
   "source": [
    "grouped_ages = purchase_data.groupby(\"Age Group\")\n",
    "\n",
    "# Formulas for calculation\n",
    "purchase_count = grouped_ages[\"Purchase ID\"].count()\n",
    "avg_purch_price = grouped_ages[\"Price\"].mean()\n",
    "total_purchase = grouped_ages[\"Price\"].sum()\n",
    "avg_purch_total_per_person = (total_purchase / total_age_demo)\n",
    "\n",
    "# Create a Data Frame to display values\n",
    "purchase_analysis = pd.DataFrame({\"Purchase Count\": purchase_count,\n",
    "                                 \"Average Purchase Price\": avg_purch_price,\n",
    "                                 \"Total Purchase\": total_purchase,\n",
    "                                 \"Average Purchase Total per Person\": avg_purch_total_per_person})\n",
    "\n",
    "# Formatting\n",
    "purchase_analysis.style.format({\"Average Purchase Price\": \"${:,.2f}\",\n",
    "                               \"Total Purchase\": \"${:,.2f}\",\n",
    "                               \"Average Purchase Total per Person\": \"${:,.2f}\"})"
   ]
  },
  {
   "cell_type": "markdown",
   "metadata": {},
   "source": [
    "## Top Spenders"
   ]
  },
  {
   "cell_type": "markdown",
   "metadata": {},
   "source": [
    "* Run basic calculations to obtain the results in the table below\n",
    "\n",
    "\n",
    "* Create a summary data frame to hold the results\n",
    "\n",
    "\n",
    "* Sort the total purchase value column in descending order\n",
    "\n",
    "\n",
    "* Optional: give the displayed data cleaner formatting\n",
    "\n",
    "\n",
    "* Display a preview of the summary data frame\n",
    "\n"
   ]
  },
  {
   "cell_type": "code",
   "execution_count": 93,
   "metadata": {},
   "outputs": [
    {
     "data": {
      "text/html": [
       "<style  type=\"text/css\" >\n",
       "</style><table id=\"T_06e9ef90_3725_11ea_ab3b_c36f08349a16\" ><thead>    <tr>        <th class=\"blank level0\" ></th>        <th class=\"col_heading level0 col0\" >Purchase Count</th>        <th class=\"col_heading level0 col1\" >Average Purchase Price</th>        <th class=\"col_heading level0 col2\" >Total Purchase Value</th>    </tr>    <tr>        <th class=\"index_name level0\" >SN</th>        <th class=\"blank\" ></th>        <th class=\"blank\" ></th>        <th class=\"blank\" ></th>    </tr></thead><tbody>\n",
       "                <tr>\n",
       "                        <th id=\"T_06e9ef90_3725_11ea_ab3b_c36f08349a16level0_row0\" class=\"row_heading level0 row0\" >Lisosia93</th>\n",
       "                        <td id=\"T_06e9ef90_3725_11ea_ab3b_c36f08349a16row0_col0\" class=\"data row0 col0\" >5</td>\n",
       "                        <td id=\"T_06e9ef90_3725_11ea_ab3b_c36f08349a16row0_col1\" class=\"data row0 col1\" >$3.79</td>\n",
       "                        <td id=\"T_06e9ef90_3725_11ea_ab3b_c36f08349a16row0_col2\" class=\"data row0 col2\" >$18.96</td>\n",
       "            </tr>\n",
       "            <tr>\n",
       "                        <th id=\"T_06e9ef90_3725_11ea_ab3b_c36f08349a16level0_row1\" class=\"row_heading level0 row1\" >Idastidru52</th>\n",
       "                        <td id=\"T_06e9ef90_3725_11ea_ab3b_c36f08349a16row1_col0\" class=\"data row1 col0\" >4</td>\n",
       "                        <td id=\"T_06e9ef90_3725_11ea_ab3b_c36f08349a16row1_col1\" class=\"data row1 col1\" >$3.86</td>\n",
       "                        <td id=\"T_06e9ef90_3725_11ea_ab3b_c36f08349a16row1_col2\" class=\"data row1 col2\" >$15.45</td>\n",
       "            </tr>\n",
       "            <tr>\n",
       "                        <th id=\"T_06e9ef90_3725_11ea_ab3b_c36f08349a16level0_row2\" class=\"row_heading level0 row2\" >Chamjask73</th>\n",
       "                        <td id=\"T_06e9ef90_3725_11ea_ab3b_c36f08349a16row2_col0\" class=\"data row2 col0\" >3</td>\n",
       "                        <td id=\"T_06e9ef90_3725_11ea_ab3b_c36f08349a16row2_col1\" class=\"data row2 col1\" >$4.61</td>\n",
       "                        <td id=\"T_06e9ef90_3725_11ea_ab3b_c36f08349a16row2_col2\" class=\"data row2 col2\" >$13.83</td>\n",
       "            </tr>\n",
       "            <tr>\n",
       "                        <th id=\"T_06e9ef90_3725_11ea_ab3b_c36f08349a16level0_row3\" class=\"row_heading level0 row3\" >Iral74</th>\n",
       "                        <td id=\"T_06e9ef90_3725_11ea_ab3b_c36f08349a16row3_col0\" class=\"data row3 col0\" >4</td>\n",
       "                        <td id=\"T_06e9ef90_3725_11ea_ab3b_c36f08349a16row3_col1\" class=\"data row3 col1\" >$3.40</td>\n",
       "                        <td id=\"T_06e9ef90_3725_11ea_ab3b_c36f08349a16row3_col2\" class=\"data row3 col2\" >$13.62</td>\n",
       "            </tr>\n",
       "            <tr>\n",
       "                        <th id=\"T_06e9ef90_3725_11ea_ab3b_c36f08349a16level0_row4\" class=\"row_heading level0 row4\" >Iskadarya95</th>\n",
       "                        <td id=\"T_06e9ef90_3725_11ea_ab3b_c36f08349a16row4_col0\" class=\"data row4 col0\" >3</td>\n",
       "                        <td id=\"T_06e9ef90_3725_11ea_ab3b_c36f08349a16row4_col1\" class=\"data row4 col1\" >$4.37</td>\n",
       "                        <td id=\"T_06e9ef90_3725_11ea_ab3b_c36f08349a16row4_col2\" class=\"data row4 col2\" >$13.10</td>\n",
       "            </tr>\n",
       "    </tbody></table>"
      ],
      "text/plain": [
       "<pandas.io.formats.style.Styler at 0x1ffc8723f88>"
      ]
     },
     "execution_count": 93,
     "metadata": {},
     "output_type": "execute_result"
    }
   ],
   "source": [
    "# Group purchase data by Screen Names\n",
    "spending_stats = purchase_data.groupby(\"SN\")\n",
    "\n",
    "# Formulas for Calculations\n",
    "purchase_counter = spending_stats[\"Purchase ID\"].count()\n",
    "avg_price_per_shopper = spending_stats[\"Price\"].mean()\n",
    "total_purch_per_shopper = spending_stats[\"Price\"].sum()\n",
    "\n",
    "# Creating Data Frame\n",
    "top_spenders = pd.DataFrame({\"Purchase Count\": purchase_counter,\n",
    "                            \"Average Purchase Price\": avg_price_per_shopper,\n",
    "                            \"Total Purchase Value\": total_purch_per_shopper})\n",
    "\n",
    "# Sort through and pull top 5 users, & format\n",
    "sort_spenders = top_spenders.sort_values([\"Total Purchase Value\"], ascending=False).head()\n",
    "sort_spenders.style.format({\"Average Purchase Price\": \"${:,.2f}\",\n",
    "                           \"Total Purchase Value\": \"${:,.2f}\"})"
   ]
  },
  {
   "cell_type": "markdown",
   "metadata": {},
   "source": [
    "## Most Popular Items"
   ]
  },
  {
   "cell_type": "markdown",
   "metadata": {},
   "source": [
    "* Retrieve the Item ID, Item Name, and Item Price columns\n",
    "\n",
    "\n",
    "* Group by Item ID and Item Name. Perform calculations to obtain purchase count, item price, and total purchase value\n",
    "\n",
    "\n",
    "* Create a summary data frame to hold the results\n",
    "\n",
    "\n",
    "* Sort the purchase count column in descending order\n",
    "\n",
    "\n",
    "* Optional: give the displayed data cleaner formatting\n",
    "\n",
    "\n",
    "* Display a preview of the summary data frame\n",
    "\n"
   ]
  },
  {
   "cell_type": "code",
   "execution_count": 94,
   "metadata": {},
   "outputs": [
    {
     "data": {
      "text/html": [
       "<style  type=\"text/css\" >\n",
       "</style><table id=\"T_07b8aef6_3725_11ea_ac46_c36f08349a16\" ><thead>    <tr>        <th class=\"blank\" ></th>        <th class=\"blank level0\" ></th>        <th class=\"col_heading level0 col0\" >Purchase Count</th>        <th class=\"col_heading level0 col1\" >Item Price</th>        <th class=\"col_heading level0 col2\" >Total Purchase Value</th>    </tr>    <tr>        <th class=\"index_name level0\" >Item ID</th>        <th class=\"index_name level1\" >Item Name</th>        <th class=\"blank\" ></th>        <th class=\"blank\" ></th>        <th class=\"blank\" ></th>    </tr></thead><tbody>\n",
       "                <tr>\n",
       "                        <th id=\"T_07b8aef6_3725_11ea_ac46_c36f08349a16level0_row0\" class=\"row_heading level0 row0\" >178</th>\n",
       "                        <th id=\"T_07b8aef6_3725_11ea_ac46_c36f08349a16level1_row0\" class=\"row_heading level1 row0\" >Oathbreaker, Last Hope of the Breaking Storm</th>\n",
       "                        <td id=\"T_07b8aef6_3725_11ea_ac46_c36f08349a16row0_col0\" class=\"data row0 col0\" >12</td>\n",
       "                        <td id=\"T_07b8aef6_3725_11ea_ac46_c36f08349a16row0_col1\" class=\"data row0 col1\" >$4.23</td>\n",
       "                        <td id=\"T_07b8aef6_3725_11ea_ac46_c36f08349a16row0_col2\" class=\"data row0 col2\" >$50.76</td>\n",
       "            </tr>\n",
       "            <tr>\n",
       "                        <th id=\"T_07b8aef6_3725_11ea_ac46_c36f08349a16level0_row1\" class=\"row_heading level0 row1\" >145</th>\n",
       "                        <th id=\"T_07b8aef6_3725_11ea_ac46_c36f08349a16level1_row1\" class=\"row_heading level1 row1\" >Fiery Glass Crusader</th>\n",
       "                        <td id=\"T_07b8aef6_3725_11ea_ac46_c36f08349a16row1_col0\" class=\"data row1 col0\" >9</td>\n",
       "                        <td id=\"T_07b8aef6_3725_11ea_ac46_c36f08349a16row1_col1\" class=\"data row1 col1\" >$4.58</td>\n",
       "                        <td id=\"T_07b8aef6_3725_11ea_ac46_c36f08349a16row1_col2\" class=\"data row1 col2\" >$41.22</td>\n",
       "            </tr>\n",
       "            <tr>\n",
       "                        <th id=\"T_07b8aef6_3725_11ea_ac46_c36f08349a16level0_row2\" class=\"row_heading level0 row2\" >108</th>\n",
       "                        <th id=\"T_07b8aef6_3725_11ea_ac46_c36f08349a16level1_row2\" class=\"row_heading level1 row2\" >Extraction, Quickblade Of Trembling Hands</th>\n",
       "                        <td id=\"T_07b8aef6_3725_11ea_ac46_c36f08349a16row2_col0\" class=\"data row2 col0\" >9</td>\n",
       "                        <td id=\"T_07b8aef6_3725_11ea_ac46_c36f08349a16row2_col1\" class=\"data row2 col1\" >$3.53</td>\n",
       "                        <td id=\"T_07b8aef6_3725_11ea_ac46_c36f08349a16row2_col2\" class=\"data row2 col2\" >$31.77</td>\n",
       "            </tr>\n",
       "            <tr>\n",
       "                        <th id=\"T_07b8aef6_3725_11ea_ac46_c36f08349a16level0_row3\" class=\"row_heading level0 row3\" >82</th>\n",
       "                        <th id=\"T_07b8aef6_3725_11ea_ac46_c36f08349a16level1_row3\" class=\"row_heading level1 row3\" >Nirvana</th>\n",
       "                        <td id=\"T_07b8aef6_3725_11ea_ac46_c36f08349a16row3_col0\" class=\"data row3 col0\" >9</td>\n",
       "                        <td id=\"T_07b8aef6_3725_11ea_ac46_c36f08349a16row3_col1\" class=\"data row3 col1\" >$4.90</td>\n",
       "                        <td id=\"T_07b8aef6_3725_11ea_ac46_c36f08349a16row3_col2\" class=\"data row3 col2\" >$44.10</td>\n",
       "            </tr>\n",
       "            <tr>\n",
       "                        <th id=\"T_07b8aef6_3725_11ea_ac46_c36f08349a16level0_row4\" class=\"row_heading level0 row4\" >19</th>\n",
       "                        <th id=\"T_07b8aef6_3725_11ea_ac46_c36f08349a16level1_row4\" class=\"row_heading level1 row4\" >Pursuit, Cudgel of Necromancy</th>\n",
       "                        <td id=\"T_07b8aef6_3725_11ea_ac46_c36f08349a16row4_col0\" class=\"data row4 col0\" >8</td>\n",
       "                        <td id=\"T_07b8aef6_3725_11ea_ac46_c36f08349a16row4_col1\" class=\"data row4 col1\" >$1.02</td>\n",
       "                        <td id=\"T_07b8aef6_3725_11ea_ac46_c36f08349a16row4_col2\" class=\"data row4 col2\" >$8.16</td>\n",
       "            </tr>\n",
       "    </tbody></table>"
      ],
      "text/plain": [
       "<pandas.io.formats.style.Styler at 0x1ffc873cc08>"
      ]
     },
     "execution_count": 94,
     "metadata": {},
     "output_type": "execute_result"
    }
   ],
   "source": [
    "# Build new data frame, pulling info from Purchase Data\n",
    "popular_items = purchase_data[[\"Item ID\", \"Item Name\", \"Price\"]]\n",
    "\n",
    "# Group by Item ID and Item Name\n",
    "item_group = popular_items.groupby([\"Item ID\", \"Item Name\"])\n",
    "\n",
    "# Formulas for Calculation\n",
    "purchase_count = item_group[\"Price\"].count()\n",
    "price_per_item = item_group[\"Price\"].sum()\n",
    "single_item = (price_per_item/purchase_count)\n",
    "\n",
    "# Data Frame\n",
    "most_popular_items = pd.DataFrame({\"Purchase Count\": purchase_count,\n",
    "                                  \"Item Price\": single_item,\n",
    "                                  \"Total Purchase Value\": price_per_item})\n",
    "# Formatting\n",
    "format_data = most_popular_items.sort_values([\"Purchase Count\"], ascending=False).head()\n",
    "format_data.style.format({\"Item Price\":\"${:,.2f}\",\n",
    "                         \"Total Purchase Value\": \"${:,.2f}\"})"
   ]
  },
  {
   "cell_type": "markdown",
   "metadata": {},
   "source": [
    "## Most Profitable Items"
   ]
  },
  {
   "cell_type": "markdown",
   "metadata": {},
   "source": [
    "* Sort the above table by total purchase value in descending order\n",
    "\n",
    "\n",
    "* Optional: give the displayed data cleaner formatting\n",
    "\n",
    "\n",
    "* Display a preview of the data frame\n",
    "\n"
   ]
  },
  {
   "cell_type": "code",
   "execution_count": 95,
   "metadata": {
    "scrolled": true
   },
   "outputs": [
    {
     "data": {
      "text/html": [
       "<style  type=\"text/css\" >\n",
       "</style><table id=\"T_087fda9e_3725_11ea_9575_c36f08349a16\" ><thead>    <tr>        <th class=\"blank\" ></th>        <th class=\"blank level0\" ></th>        <th class=\"col_heading level0 col0\" >Purchase Count</th>        <th class=\"col_heading level0 col1\" >Item Price</th>        <th class=\"col_heading level0 col2\" >Total Purchase Value</th>    </tr>    <tr>        <th class=\"index_name level0\" >Item ID</th>        <th class=\"index_name level1\" >Item Name</th>        <th class=\"blank\" ></th>        <th class=\"blank\" ></th>        <th class=\"blank\" ></th>    </tr></thead><tbody>\n",
       "                <tr>\n",
       "                        <th id=\"T_087fda9e_3725_11ea_9575_c36f08349a16level0_row0\" class=\"row_heading level0 row0\" >178</th>\n",
       "                        <th id=\"T_087fda9e_3725_11ea_9575_c36f08349a16level1_row0\" class=\"row_heading level1 row0\" >Oathbreaker, Last Hope of the Breaking Storm</th>\n",
       "                        <td id=\"T_087fda9e_3725_11ea_9575_c36f08349a16row0_col0\" class=\"data row0 col0\" >12</td>\n",
       "                        <td id=\"T_087fda9e_3725_11ea_9575_c36f08349a16row0_col1\" class=\"data row0 col1\" >$4.23</td>\n",
       "                        <td id=\"T_087fda9e_3725_11ea_9575_c36f08349a16row0_col2\" class=\"data row0 col2\" >$50.76</td>\n",
       "            </tr>\n",
       "            <tr>\n",
       "                        <th id=\"T_087fda9e_3725_11ea_9575_c36f08349a16level0_row1\" class=\"row_heading level0 row1\" >82</th>\n",
       "                        <th id=\"T_087fda9e_3725_11ea_9575_c36f08349a16level1_row1\" class=\"row_heading level1 row1\" >Nirvana</th>\n",
       "                        <td id=\"T_087fda9e_3725_11ea_9575_c36f08349a16row1_col0\" class=\"data row1 col0\" >9</td>\n",
       "                        <td id=\"T_087fda9e_3725_11ea_9575_c36f08349a16row1_col1\" class=\"data row1 col1\" >$4.90</td>\n",
       "                        <td id=\"T_087fda9e_3725_11ea_9575_c36f08349a16row1_col2\" class=\"data row1 col2\" >$44.10</td>\n",
       "            </tr>\n",
       "            <tr>\n",
       "                        <th id=\"T_087fda9e_3725_11ea_9575_c36f08349a16level0_row2\" class=\"row_heading level0 row2\" >145</th>\n",
       "                        <th id=\"T_087fda9e_3725_11ea_9575_c36f08349a16level1_row2\" class=\"row_heading level1 row2\" >Fiery Glass Crusader</th>\n",
       "                        <td id=\"T_087fda9e_3725_11ea_9575_c36f08349a16row2_col0\" class=\"data row2 col0\" >9</td>\n",
       "                        <td id=\"T_087fda9e_3725_11ea_9575_c36f08349a16row2_col1\" class=\"data row2 col1\" >$4.58</td>\n",
       "                        <td id=\"T_087fda9e_3725_11ea_9575_c36f08349a16row2_col2\" class=\"data row2 col2\" >$41.22</td>\n",
       "            </tr>\n",
       "            <tr>\n",
       "                        <th id=\"T_087fda9e_3725_11ea_9575_c36f08349a16level0_row3\" class=\"row_heading level0 row3\" >92</th>\n",
       "                        <th id=\"T_087fda9e_3725_11ea_9575_c36f08349a16level1_row3\" class=\"row_heading level1 row3\" >Final Critic</th>\n",
       "                        <td id=\"T_087fda9e_3725_11ea_9575_c36f08349a16row3_col0\" class=\"data row3 col0\" >8</td>\n",
       "                        <td id=\"T_087fda9e_3725_11ea_9575_c36f08349a16row3_col1\" class=\"data row3 col1\" >$4.88</td>\n",
       "                        <td id=\"T_087fda9e_3725_11ea_9575_c36f08349a16row3_col2\" class=\"data row3 col2\" >$39.04</td>\n",
       "            </tr>\n",
       "            <tr>\n",
       "                        <th id=\"T_087fda9e_3725_11ea_9575_c36f08349a16level0_row4\" class=\"row_heading level0 row4\" >103</th>\n",
       "                        <th id=\"T_087fda9e_3725_11ea_9575_c36f08349a16level1_row4\" class=\"row_heading level1 row4\" >Singed Scalpel</th>\n",
       "                        <td id=\"T_087fda9e_3725_11ea_9575_c36f08349a16row4_col0\" class=\"data row4 col0\" >8</td>\n",
       "                        <td id=\"T_087fda9e_3725_11ea_9575_c36f08349a16row4_col1\" class=\"data row4 col1\" >$4.35</td>\n",
       "                        <td id=\"T_087fda9e_3725_11ea_9575_c36f08349a16row4_col2\" class=\"data row4 col2\" >$34.80</td>\n",
       "            </tr>\n",
       "    </tbody></table>"
      ],
      "text/plain": [
       "<pandas.io.formats.style.Styler at 0x1ffc87313c8>"
      ]
     },
     "execution_count": 95,
     "metadata": {},
     "output_type": "execute_result"
    }
   ],
   "source": [
    "format_data = most_popular_items.sort_values([\"Total Purchase Value\"], ascending=False).head()\n",
    "format_data.style.format({\"Item Price\":\"${:,.2f}\",\n",
    "                         \"Total Purchase Value\":\"${:,.2f}\"})"
   ]
  },
  {
   "cell_type": "code",
   "execution_count": null,
   "metadata": {},
   "outputs": [],
   "source": []
  },
  {
   "cell_type": "code",
   "execution_count": null,
   "metadata": {},
   "outputs": [],
   "source": []
  }
 ],
 "metadata": {
  "anaconda-cloud": {},
  "kernel_info": {
   "name": "python3"
  },
  "kernelspec": {
   "display_name": "Python 3",
   "language": "python",
   "name": "python3"
  },
  "language_info": {
   "codemirror_mode": {
    "name": "ipython",
    "version": 3
   },
   "file_extension": ".py",
   "mimetype": "text/x-python",
   "name": "python",
   "nbconvert_exporter": "python",
   "pygments_lexer": "ipython3",
   "version": "3.7.4"
  },
  "latex_envs": {
   "LaTeX_envs_menu_present": true,
   "autoclose": false,
   "autocomplete": true,
   "bibliofile": "biblio.bib",
   "cite_by": "apalike",
   "current_citInitial": 1,
   "eqLabelWithNumbers": true,
   "eqNumInitial": 1,
   "hotkeys": {
    "equation": "Ctrl-E",
    "itemize": "Ctrl-I"
   },
   "labels_anchors": false,
   "latex_user_defs": false,
   "report_style_numbering": false,
   "user_envs_cfg": false
  },
  "nteract": {
   "version": "0.2.0"
  }
 },
 "nbformat": 4,
 "nbformat_minor": 2
}
